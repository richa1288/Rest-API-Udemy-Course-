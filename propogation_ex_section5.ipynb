{
  "nbformat": 4,
  "nbformat_minor": 0,
  "metadata": {
    "colab": {
      "name": "propogation_ex_section5.ipynb",
      "provenance": [],
      "authorship_tag": "ABX9TyMBtorDHje8zXC64Ew/kkb9",
      "include_colab_link": true
    },
    "kernelspec": {
      "name": "python3",
      "display_name": "Python 3"
    },
    "language_info": {
      "name": "python"
    }
  },
  "cells": [
    {
      "cell_type": "markdown",
      "metadata": {
        "id": "view-in-github",
        "colab_type": "text"
      },
      "source": [
        "<a href=\"https://colab.research.google.com/github/richa1288/Rest-API-Udemy-Course-/blob/main/propogation_ex_section5.ipynb\" target=\"_parent\"><img src=\"https://colab.research.google.com/assets/colab-badge.svg\" alt=\"Open In Colab\"/></a>"
      ]
    },
    {
      "cell_type": "code",
      "execution_count": null,
      "metadata": {
        "id": "yuh7LwF13iY9"
      },
      "outputs": [],
      "source": [
        "from flask import Flask\n",
        "from flask_restful import Api\n",
        "from flask_jwt import JWT\n",
        "\n",
        "from security import authenticate, identity\n",
        "from user import UserRegister\n",
        "from item import Item, ItemList\n",
        "\n",
        "app = Flask(__name__)\n",
        "app.config['PROPAGATE_EXCEPTIONS'] = True\n",
        "app.secret_key = 'jose'\n",
        "api = Api(app)\n",
        "\n",
        "jwt = JWT(app, authenticate, identity)\n",
        "\n",
        "api.add_resource(Item, '/item/<string:name>')\n",
        "api.add_resource(ItemList, '/items')\n",
        "api.add_resource(UserRegister, '/register')\n",
        "\n",
        "if __name__ == '__main__':\n",
        "    app.run(debug=True)  # important to mention debug=True"
      ]
    }
  ]
}