{
  "nbformat": 4,
  "nbformat_minor": 0,
  "metadata": {
    "colab": {
      "name": "create table_sec5.ipynb",
      "provenance": [],
      "authorship_tag": "ABX9TyNAveTn97TSY7qqaIdKuzg+",
      "include_colab_link": true
    },
    "kernelspec": {
      "name": "python3",
      "display_name": "Python 3"
    },
    "language_info": {
      "name": "python"
    }
  },
  "cells": [
    {
      "cell_type": "markdown",
      "metadata": {
        "id": "view-in-github",
        "colab_type": "text"
      },
      "source": [
        "<a href=\"https://colab.research.google.com/github/richa1288/Rest-API-Udemy-Course-/blob/main/create_table_sec5.ipynb\" target=\"_parent\"><img src=\"https://colab.research.google.com/assets/colab-badge.svg\" alt=\"Open In Colab\"/></a>"
      ]
    },
    {
      "cell_type": "code",
      "execution_count": null,
      "metadata": {
        "id": "02zkQcXT3yTe"
      },
      "outputs": [],
      "source": [
        "import sqlite3\n",
        "\n",
        "connection = sqlite3.connect('data.db')\n",
        "\n",
        "cursor = connection.cursor()\n",
        "\n",
        "create_table = \"CREATE TABLE IF NOT EXISTS users (id INTEGER PRIMARY KEY, username text, password text)\"\n",
        "cursor.execute(create_table)\n",
        "\n",
        "create_table = \"CREATE TABLE IF NOT EXISTS items (name text PRIMARY KEY, price real)\"\n",
        "cursor.execute(create_table)\n",
        "\n",
        "connection.commit()\n",
        "\n",
        "connection.close()"
      ]
    }
  ]
}