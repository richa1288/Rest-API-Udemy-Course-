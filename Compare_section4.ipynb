{
  "nbformat": 4,
  "nbformat_minor": 0,
  "metadata": {
    "colab": {
      "name": "Compare section4.ipynb",
      "provenance": [],
      "authorship_tag": "ABX9TyMyNjVDJGFvRFvLVatHrPB6",
      "include_colab_link": true
    },
    "kernelspec": {
      "name": "python3",
      "display_name": "Python 3"
    },
    "language_info": {
      "name": "python"
    }
  },
  "cells": [
    {
      "cell_type": "markdown",
      "metadata": {
        "id": "view-in-github",
        "colab_type": "text"
      },
      "source": [
        "<a href=\"https://colab.research.google.com/github/richa1288/Rest-API-Udemy-Course-/blob/main/Compare_section4.ipynb\" target=\"_parent\"><img src=\"https://colab.research.google.com/assets/colab-badge.svg\" alt=\"Open In Colab\"/></a>"
      ]
    },
    {
      "cell_type": "code",
      "execution_count": null,
      "metadata": {
        "id": "Oc8IM4lb3UqL"
      },
      "outputs": [],
      "source": [
        "from hmac import compare_digest\n",
        "from user import User\n",
        "\n",
        "users = [\n",
        "    User(1, 'user1', 'abcxyz'),\n",
        "    User(2, 'user2', 'abcxyz'),\n",
        "]\n",
        "\n",
        "username_table = {u.username: u for u in users}\n",
        "userid_table = {u.id: u for u in users}\n",
        "\n",
        "def authenticate(username, password):\n",
        "    user = username_table.get(username, None)\n",
        "    if user and compare_digest(user.password, password):\n",
        "        return user\n",
        "\n",
        "def identity(payload):\n",
        "    user_id = payload['identity']\n",
        "    return userid_table.get(user_id, None)"
      ]
    }
  ]
}